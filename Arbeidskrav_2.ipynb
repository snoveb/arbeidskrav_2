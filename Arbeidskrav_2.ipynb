{
 "cells": [
  {
   "cell_type": "code",
   "execution_count": null,
   "id": "3d9f7d0d-3768-473b-9d24-89f42a8a676b",
   "metadata": {},
   "outputs": [],
   "source": [
    "# Oppgave 1\n",
    "\n",
    "alder = int(input('Hvilket år er du født?'))\n",
    "\n",
    "år = 2024\n",
    "\n",
    "print(\"Du er\", (år-alder), \"år.\")"
   ]
  },
  {
   "cell_type": "code",
   "execution_count": null,
   "id": "492eb96f-7e8a-4091-80fc-966698b014c6",
   "metadata": {},
   "outputs": [],
   "source": [
    "# Oppgave 2\n",
    "\n",
    "antall_elever = int(input('Skriv inn antall elever:'))\n",
    "pizza_per_elev = 1 / 4\n",
    "total_pizza = antall_elever * pizza_per_elev\n",
    "\n",
    "if total_pizza == int(total_pizza):\n",
    "    pizzaer_som_må_kjøpes = int(total_pizza)\n",
    "else:\n",
    "    pizzaer_som_må_kjøpes = int(total_pizza) + 1\n",
    "\n",
    "print(\"Du må kjøpe inn\", (pizzaer_som_må_kjøpes), \"pizzaer til festen, dersom det kommer\", (antall_elever), \"elever.\")"
   ]
  },
  {
   "cell_type": "code",
   "execution_count": null,
   "id": "ea84d0be-c118-4133-9a3d-bb11d5bb2fb6",
   "metadata": {},
   "outputs": [],
   "source": [
    "# Oppgave 3\n",
    "\n",
    "import numpy as np\n",
    "\n",
    "v_grad = float(input('Skriv inn gradtallet: '))\n",
    "\n",
    "# Radiantall_til_vinkel\n",
    "v_rad = v_grad * np.pi / 180\n",
    "\n",
    "print(\"Radiantallet til vinkelen\", v_grad, \"grader er\", v_rad)\n"
   ]
  },
  {
   "cell_type": "code",
   "execution_count": null,
   "id": "5b8521c4-357c-4f7d-a8e6-404f4601facf",
   "metadata": {},
   "outputs": [],
   "source": [
    "# Oppgave 4 a + b\n",
    "\n",
    "data = {\n",
    "    \"Norge\": [\"Oslo\", 0.634],\n",
    "    \"England\": [\"London\", 8.982],\n",
    "    \"Frankrike\": [\"Paris\", 2.161],\n",
    "    \"Italia\": [\"Roma\", 2.873]\n",
    "    }\n",
    "    \n",
    "land = str(input('Hvilket land ønsker du informasjon om? Husk stor forbokstav')) #Henter informasjon fra bruker\n",
    "\n",
    "if land in data:\n",
    "    hovedstad, innbyggere = data[land] #Tilordner en definisjon for hva som ligger i data\n",
    "    print(hovedstad, \"er hovedstaden i\", land, \", og det er\", innbyggere, \"millioner innbyggere i\", hovedstad + \".\")\n",
    "else:\n",
    "    print(\"Dessverre har jeg ikke noe informasjon om\", land + \".\")\n"
   ]
  },
  {
   "cell_type": "code",
   "execution_count": 5,
   "id": "76d17b88-1a9d-4684-981d-745b12e25f3c",
   "metadata": {},
   "outputs": [
    {
     "name": "stdin",
     "output_type": "stream",
     "text": [
      "Hvilket land ønsker du informasjon om? Spannia\n"
     ]
    },
    {
     "name": "stdout",
     "output_type": "stream",
     "text": [
      "Dessverre har jeg ikke noe informasjon om Spannia.\n"
     ]
    },
    {
     "name": "stdin",
     "output_type": "stream",
     "text": [
      "Vil du legge dette til? (ja/nei)  ja\n",
      "Hva er hovedstaden? Madrid\n",
      "Hvor mange millioner innbyggere er det? 3.277\n"
     ]
    },
    {
     "name": "stdout",
     "output_type": "stream",
     "text": [
      "Spannia er lagt til med hovedstaden Madrid og 3.277 millioner innbyggere.\n",
      "------------------------------\n",
      "Her er en oversikt over landdata:\n",
      "{'Norge': ['Oslo', 0.634], 'England': ['London', 8.982], 'Frankrike': ['Paris', 2.161], 'Italia': ['Roma', 2.873], 'Spannia': ['Madrid', 3.277]}\n"
     ]
    }
   ],
   "source": [
    "# Oppgave 4 c\n",
    "\n",
    "data = {\n",
    "    \"Norge\": [\"Oslo\", 0.634],\n",
    "    \"England\": [\"London\", 8.982],\n",
    "    \"Frankrike\": [\"Paris\", 2.161],\n",
    "    \"Italia\": [\"Roma\", 2.873]\n",
    "}\n",
    "\n",
    "land = str(input('Hvilket land ønsker du informasjon om?'))  # Henter informasjon fra bruker\n",
    "\n",
    "if land in data:\n",
    "    hovedstad, innbyggere = data[land]  # Tilordner en definisjon for hva som ligger i data\n",
    "    print(hovedstad, \"er hovedstaden i\", land, \", og det er\", innbyggere, \"millioner innbyggere i\", hovedstad + \".\")\n",
    "else:\n",
    "    print(\"Dessverre har jeg ikke noe informasjon om\", land + \".\")\n",
    "    svar = input(\"Vil du legge dette til? (ja/nei) \")  \n",
    "\n",
    "    if svar == \"nei\":\n",
    "        print(\"Ha en fin dag!\")\n",
    "    elif svar == \"ja\": #Hente ny informasjon som skal legges til i dictionary\n",
    "        \n",
    "        def legg_til_nytt_land(data):\n",
    "            hovedstad = input(\"Hva er hovedstaden?\")\n",
    "            innbyggere = float(input(\"Hvor mange millioner innbyggere er det?\"))\n",
    "\n",
    "            # Ny informasjon legges til i dictionary\n",
    "            data[land] = [hovedstad, innbyggere]\n",
    "            print(land, \"er lagt til med hovedstaden\", hovedstad, \"og\", innbyggere, \"millioner innbyggere.\")\n",
    "        \n",
    "        legg_til_nytt_land(data) #Funksjon for å legge til nytt land i dictionary\n",
    "        \n",
    "    else:\n",
    "        print(\"Beklager, jeg kan dessverre ikke hjelpe deg her. Ha en fin dag!\")\n",
    "\n",
    "print('-' * 30) #Lager en linje for å gjøre output mer oversiktlig\n",
    "print(\"Her er en oversikt over alle landdata:\")\n",
    "print(data)\n"
   ]
  },
  {
   "cell_type": "code",
   "execution_count": null,
   "id": "140c3a5e-d845-4aa1-b215-eea96e2633b1",
   "metadata": {},
   "outputs": [],
   "source": [
    "# Oppgave 5\n",
    "\n",
    "import numpy as np\n",
    "\n",
    "# Be om lengdene til katetene (a og b) som input\n",
    "katet1 = float(input(\"Skriv inn lengden på den første kateten (a):\"))\n",
    "katet2 = float(input(\"Skriv inn lengden på den andre kateten (b):\"))\n",
    "\n",
    "# Beregne hypotenusen (c)\n",
    "hypotenus = katet1**2 + katet1**2\n",
    "\n",
    "# Beregne omkretsen til trekanten\n",
    "omkrets_trekant = katet1 + katet2 + hypotenus\n",
    "\n",
    "# Beregne arealet til trekanten\n",
    "areal_trekant = (katet1 * katet2) / 2\n",
    "\n",
    "# Knytte halvsirkelen til katet1 (a)\n",
    "radius = katet1 / 2\n",
    "\n",
    "# Beregne omkretsen til halvsirkelen\n",
    "omkrets_halvsirkel = np.pi * radius + katet1\n",
    "\n",
    "# Beregne arealet til halvsirkelen\n",
    "areal_halvsirkel = (np.pi * (radius ** 2)) / 2\n",
    "\n",
    "# Beregne total omkrets av trekant og halvsirkel\n",
    "total_omkrets = omkrets_trekant + omkrets_halvsirkel - katet1\n",
    "\n",
    "# Beregne totalt areal\n",
    "total_areal = areal_trekant + areal_halvsirkel\n",
    "\n",
    "print('-' * 30)\n",
    "print(\"Total omkrets (ytre omkrets) av trekant og halvsirkel er:\", total_omkrets)\n",
    "print(\"Totalt areal av trekant og halvsirkel er:\", total_areal)\n",
    "print('-' * 30)\n",
    "print(\"Trekantens omkrets er:\", omkrets_trekant)\n",
    "print(\"Trekantens areal er:\", areal_trekant)\n",
    "print(\"Halvsirkelens omkrets er:\", omkrets_halvsirkel)\n",
    "print(\"Halvsirkelens areal er:\", areal_halvsirkel)\n",
    "\n"
   ]
  },
  {
   "cell_type": "code",
   "execution_count": null,
   "id": "f530e151-3d64-4c47-97e6-8cfd544cb015",
   "metadata": {},
   "outputs": [],
   "source": [
    "# Oppgave 6\n",
    "\n",
    "import numpy as np\n",
    "import matplotlib.pyplot as plt\n",
    "\n",
    "x = np.linspace(-10, 10, 200)\n",
    "f = -x**2 - 5\n",
    "\n",
    "plt.plot (x, f, \"--\", color=\"red\", label=\"f(x)\")\n",
    "plt.grid()\n",
    "plt.xlabel(\"x\")\n",
    "plt.ylabel(\"f(x)\")\n",
    "plt.title(\"f(x) = −X**2 − 5\")\n",
    "plt.legend()\n",
    "\n",
    "plt.show() #Om programmet skal kjøres andre steder enn i Notebook"
   ]
  }
 ],
 "metadata": {
  "kernelspec": {
   "display_name": "Python 3 (ipykernel)",
   "language": "python",
   "name": "python3"
  },
  "language_info": {
   "codemirror_mode": {
    "name": "ipython",
    "version": 3
   },
   "file_extension": ".py",
   "mimetype": "text/x-python",
   "name": "python",
   "nbconvert_exporter": "python",
   "pygments_lexer": "ipython3",
   "version": "3.12.7"
  }
 },
 "nbformat": 4,
 "nbformat_minor": 5
}
